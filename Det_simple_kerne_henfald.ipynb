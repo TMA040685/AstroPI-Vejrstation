{
  "nbformat": 4,
  "nbformat_minor": 0,
  "metadata": {
    "colab": {
      "name": "Det simple kerne henfald.ipynb",
      "provenance": [],
      "collapsed_sections": [],
      "authorship_tag": "ABX9TyM//JrVdZ5zBMQTVEhRiovM",
      "include_colab_link": true
    },
    "kernelspec": {
      "name": "python3",
      "display_name": "Python 3"
    }
  },
  "cells": [
    {
      "cell_type": "markdown",
      "metadata": {
        "id": "view-in-github",
        "colab_type": "text"
      },
      "source": [
        "<a href=\"https://colab.research.google.com/github/TMA040685/AstroPI-Vejrstation/blob/master/Det_simple_kerne_henfald.ipynb\" target=\"_parent\"><img src=\"https://colab.research.google.com/assets/colab-badge.svg\" alt=\"Open In Colab\"/></a>"
      ]
    },
    {
      "cell_type": "markdown",
      "metadata": {
        "id": "mXDs9TJ5DjzE"
      },
      "source": [
        "# Det simple kerne henfald.\r\n",
        "I denne serie af små øvelser skal vi undersøge hvad der sker inde i isotop-generatoren som findes i fysik samlingen på Skolen. Dette gør vi i denne brugerflade således at vi har mulighed for at programere vores modeller og efterfølgende plotte hvad vi ønsker at se. \r\n",
        "\r\n",
        "\r\n",
        "---\r\n",
        "\r\n",
        "\r\n",
        "Interfaset her består basalt set af en række felter som enten er tekst felter som dette eller er kode felter som lader os skrive program dele i programeringssproget python.\r\n"
      ]
    },
    {
      "cell_type": "code",
      "metadata": {
        "id": "F8yshdquDdnE"
      },
      "source": [
        ""
      ],
      "execution_count": null,
      "outputs": []
    }
  ]
}